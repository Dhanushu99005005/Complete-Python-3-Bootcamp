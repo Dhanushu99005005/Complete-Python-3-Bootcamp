{
 "cells": [
  {
   "cell_type": "code",
   "execution_count": 3,
   "metadata": {},
   "outputs": [
    {
     "name": "stdout",
     "output_type": "stream",
     "text": [
      "3 2\n"
     ]
    }
   ],
   "source": [
    "string=\"ABCDCDCDC\"\n",
    "substring=\"CDC\"\n",
    "count=0\n",
    "\n",
    "if substring in string:\n",
    "    for i in range(len(string)):\n",
    "        if string[i:i+len(substring)]==substring:\n",
    "            count+=1\n",
    "else:\n",
    "    count=0\n",
    "count1=string.count(substring)\n",
    "print(count,count1)"
   ]
  },
  {
   "cell_type": "code",
   "execution_count": null,
   "metadata": {},
   "outputs": [],
   "source": [
    "s = input()\n",
    "print(s.isalnum())\n",
    "check=False\n",
    "loopcheck=False\n",
    "for i in range(len(s)):\n",
    "    check=s[i].isalpha()\n",
    "    loopcheck=loopcheck or check\n",
    "print(loopcheck)\n",
    "check=False\n",
    "for i in range(len(s)):\n",
    "        check=s[i].isdigit()\n",
    "        loopcheck=loopcheck or check\n",
    "print(loopcheck)\n",
    "check=False\n",
    "for i in range(len(s)):\n",
    "        check=s[i].isupper()\n",
    "        loopcheck=loopcheck or check\n",
    "print(loopcheck)\n",
    "check=False\n",
    "for i in range(len(s)):\n",
    "        check=s[i].islower()\n",
    "        loopcheck=loopcheck or check\n",
    "print(loopcheck)"
   ]
  },
  {
   "cell_type": "code",
   "execution_count": 3,
   "metadata": {},
   "outputs": [
    {
     "name": "stdout",
     "output_type": "stream",
     "text": [
      "I aM A GOOD BOY\n"
     ]
    }
   ],
   "source": [
    "stu=\"i Am a good boy\"\n",
    "newstring=\"\"\n",
    "for i in stu:\n",
    "    if i.isupper():\n",
    "        newstring+=i.lower() \n",
    "    elif i.islower():\n",
    "        newstring+=i.upper()\n",
    "    else:\n",
    "        newstring+=i\n",
    "print(newstring)"
   ]
  },
  {
   "cell_type": "code",
   "execution_count": 5,
   "metadata": {},
   "outputs": [
    {
     "name": "stdout",
     "output_type": "stream",
     "text": [
      "123\n"
     ]
    }
   ],
   "source": [
    "set={1,2,3}\n",
    "strset=\"\"\n",
    "for i in set:\n",
    "    strset+=str(i)\n",
    "print(strset)"
   ]
  },
  {
   "cell_type": "code",
   "execution_count": null,
   "metadata": {},
   "outputs": [],
   "source": []
  }
 ],
 "metadata": {
  "kernelspec": {
   "display_name": "Python 3",
   "language": "python",
   "name": "python3"
  },
  "language_info": {
   "codemirror_mode": {
    "name": "ipython",
    "version": 3
   },
   "file_extension": ".py",
   "mimetype": "text/x-python",
   "name": "python",
   "nbconvert_exporter": "python",
   "pygments_lexer": "ipython3",
   "version": "3.8.5"
  }
 },
 "nbformat": 4,
 "nbformat_minor": 4
}
