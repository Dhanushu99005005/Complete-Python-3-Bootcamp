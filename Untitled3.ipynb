{
 "cells": [
  {
   "cell_type": "code",
   "execution_count": 2,
   "metadata": {},
   "outputs": [
    {
     "name": "stdout",
     "output_type": "stream",
     "text": [
      "aaaa    1    aaaaa\n",
      "aaaa   333   aaaaa\n",
      "aaaa  55555  aaaaa\n",
      "aaaa 7777777 aaaaa\n",
      "aaaa999999999aaaaa\n",
      "  HHHHH   aaaaaaaaaHHHHHaaaaaaaaaa\n",
      "  HHHHH   aaaaaaaaaHHHHHaaaaaaaaaa\n",
      "  HHHHH   aaaaaaaaaHHHHHaaaaaaaaaa\n",
      "  HHHHH   aaaaaaaaaHHHHHaaaaaaaaaa\n",
      "  HHHHH   aaaaaaaaaHHHHHaaaaaaaaaa\n"
     ]
    }
   ],
   "source": [
    "N=5\n",
    "i=1\n",
    "count=1\n",
    "width=N+4\n",
    "while(count<=N):\n",
    "    value=str(i)*i\n",
    "    print((value.center(width,' ')).center(width*2,'a'))\n",
    "    count+=1\n",
    "    i+=2\n",
    "count=0\n",
    "while(count<N):\n",
    "    value='H'*N\n",
    "    print(value.center(width,' '),value.center(width+(N*3),'a'))\n",
    "    #print(value.center(width+(N*3),'a'))\n",
    "    #print(value.rjust(width,' '))\n",
    "    count+=1\n",
    "    \n",
    "    "
   ]
  },
  {
   "cell_type": "code",
   "execution_count": 2,
   "metadata": {},
   "outputs": [
    {
     "data": {
      "text/plain": [
       "[[0, 0, 0, 0], [0, 0, 0, 0], [0, 0, 0, 0], [0, 0, 0, 0]]"
      ]
     },
     "execution_count": 2,
     "metadata": {},
     "output_type": "execute_result"
    }
   ],
   "source": [
    "arr=[[0]*4 for i in range(4)]\n",
    "arr"
   ]
  },
  {
   "cell_type": "code",
   "execution_count": null,
   "metadata": {},
   "outputs": [],
   "source": []
  }
 ],
 "metadata": {
  "kernelspec": {
   "display_name": "Python 3",
   "language": "python",
   "name": "python3"
  },
  "language_info": {
   "codemirror_mode": {
    "name": "ipython",
    "version": 3
   },
   "file_extension": ".py",
   "mimetype": "text/x-python",
   "name": "python",
   "nbconvert_exporter": "python",
   "pygments_lexer": "ipython3",
   "version": "3.8.5"
  }
 },
 "nbformat": 4,
 "nbformat_minor": 4
}
