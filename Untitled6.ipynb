{
 "cells": [
  {
   "cell_type": "code",
   "execution_count": 5,
   "metadata": {},
   "outputs": [
    {
     "name": "stdin",
     "output_type": "stream",
     "text": [
      " 1 2 3 4 5 6 7 8 9 10 11 12 23 45 84 78\n",
      " 2\n",
      " 1 2 3 4 5\n",
      " 12 11 1\n"
     ]
    }
   ],
   "source": [
    "mainset=set(map(int,input().split()))\n",
    "n=int(input())\n",
    "count=0\n",
    "for i in range(n):\n",
    "    subset=set(map(int,input().split()))\n",
    "    if mainset.issuperset(subset):\n",
    "        continue\n",
    "    else:\n",
    "        print(False)\n",
    "        break\n",
    "    print(True)\n",
    "    "
   ]
  },
  {
   "cell_type": "code",
   "execution_count": null,
   "metadata": {},
   "outputs": [],
   "source": [
    "1 2 3 4 5 6 7 8 9 10 11 12 23 45 84 78\n",
    "2\n",
    "1 2 3 4 5\n",
    "100 11 1"
   ]
  },
  {
   "cell_type": "code",
   "execution_count": 8,
   "metadata": {},
   "outputs": [
    {
     "name": "stdout",
     "output_type": "stream",
     "text": [
      "[9, 9, 6, 8, 8, 8, 7, 7] 8 [6, 9, 3, 6, 2, 8, 1, 7]\n"
     ]
    }
   ],
   "source": [
    "arr=[6,9,3,6,2,8,1,7,2,0]\n",
    "k=3\n",
    "sumarr=[]\n",
    "i=0\n",
    "while(i<len(arr)-k+1):\n",
    "    sumarr.append(max(arr[i:i+k]))\n",
    "    i+=1\n",
    "print(sumarr,len(arr)-k+1,arr[:8])"
   ]
  },
  {
   "cell_type": "code",
   "execution_count": null,
   "metadata": {},
   "outputs": [],
   "source": []
  }
 ],
 "metadata": {
  "kernelspec": {
   "display_name": "Python 3",
   "language": "python",
   "name": "python3"
  },
  "language_info": {
   "codemirror_mode": {
    "name": "ipython",
    "version": 3
   },
   "file_extension": ".py",
   "mimetype": "text/x-python",
   "name": "python",
   "nbconvert_exporter": "python",
   "pygments_lexer": "ipython3",
   "version": "3.8.5"
  }
 },
 "nbformat": 4,
 "nbformat_minor": 4
}
